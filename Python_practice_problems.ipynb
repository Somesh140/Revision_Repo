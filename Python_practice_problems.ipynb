{
  "nbformat": 4,
  "nbformat_minor": 0,
  "metadata": {
    "colab": {
      "provenance": [],
      "authorship_tag": "ABX9TyOx0uAuevxtI5t5Qu/4aBLy",
      "include_colab_link": true
    },
    "kernelspec": {
      "name": "python3",
      "display_name": "Python 3"
    },
    "language_info": {
      "name": "python"
    }
  },
  "cells": [
    {
      "cell_type": "markdown",
      "metadata": {
        "id": "view-in-github",
        "colab_type": "text"
      },
      "source": [
        "<a href=\"https://colab.research.google.com/github/Somesh140/Revision_Repo/blob/main/Python_practice_problems.ipynb\" target=\"_parent\"><img src=\"https://colab.research.google.com/assets/colab-badge.svg\" alt=\"Open In Colab\"/></a>"
      ]
    },
    {
      "cell_type": "markdown",
      "source": [
        "# Interview Practice Problems"
      ],
      "metadata": {
        "id": "g4wzyNqMmII0"
      }
    },
    {
      "cell_type": "markdown",
      "source": [
        "1.Write a program to demonstrate different number data types in Python"
      ],
      "metadata": {
        "id": "azdeCTQTmNrb"
      }
    },
    {
      "cell_type": "code",
      "execution_count": null,
      "metadata": {
        "colab": {
          "base_uri": "https://localhost:8080/"
        },
        "id": "46yUCbZEmDbX",
        "outputId": "b83daf60-e968-4314-fe96-215e35f7829d"
      },
      "outputs": [
        {
          "output_type": "stream",
          "name": "stdout",
          "text": [
            " a is of type <class 'int'>\n",
            " b is of type <class 'float'>\n",
            " c is of type <class 'complex'>\n"
          ]
        }
      ],
      "source": [
        "a=10\n",
        "b=11.5\n",
        "c=2+0.5j\n",
        "print(\" a is of type\",type(a))\n",
        "print(\" b is of type\",type(b))\n",
        "print(\" c is of type\",type(c))"
      ]
    },
    {
      "cell_type": "markdown",
      "source": [
        "2. Write a program to perform different Arithmetic Operations on\n",
        "numbers in Python."
      ],
      "metadata": {
        "id": "6rCsrve8tnIm"
      }
    },
    {
      "cell_type": "code",
      "source": [
        "a=int(input(\"Enter a number\")) # input() takes data from console at runtime as string\n",
        "b= int(input(\"enter a number\")) #typecast the input string to int.\n",
        "print(\"Addition of a and b\",a+b)\n",
        "print(\"Subtraction of a and b\",a-b)\n",
        "print(\"Multplication of a and b\",a*b)\n",
        "print(\"Division of a by b\",a/b)\n",
        "print(\"Remainder of and b\",a%b)\n",
        "print(\"Exponent of a and b\",a**b)\n",
        "print(\"Floor division of a and b\",a//b)"
      ],
      "metadata": {
        "colab": {
          "base_uri": "https://localhost:8080/"
        },
        "id": "fYZhXAMBtiGF",
        "outputId": "41102ead-42b0-4dff-f1f0-61150827000f"
      },
      "execution_count": null,
      "outputs": [
        {
          "output_type": "stream",
          "name": "stdout",
          "text": [
            "Enter a number3\n",
            "enter a number4\n",
            "Addition of a and b 7\n",
            "Subtraction of a and b -1\n",
            "Multplication of a and b 12\n",
            "Division of a by b 0.75\n",
            "Remainder of and b 3\n",
            "Exponent of a and b 81\n",
            "Floor division of a and b 0\n"
          ]
        }
      ]
    },
    {
      "cell_type": "markdown",
      "source": [
        "Write a program to create, concatenate and print a string and\n",
        "accessing sub-string from a given string."
      ],
      "metadata": {
        "id": "cFS6arjAwGZ5"
      }
    },
    {
      "cell_type": "code",
      "source": [
        "s1=input(\"Enter the first string\")\n",
        "s2=input(\"Enter the second string\")\n",
        "print(\"First string\",s1)\n",
        "print(\"Second string\",s2)\n",
        "print(\"concatenations of two strings\",s1+s2)\n",
        "print(\"Substring of given string\",s1[1:4])"
      ],
      "metadata": {
        "colab": {
          "base_uri": "https://localhost:8080/"
        },
        "id": "46SLqPyxv40G",
        "outputId": "c71c275a-ff35-44a1-d298-5f3daa0dac12"
      },
      "execution_count": null,
      "outputs": [
        {
          "output_type": "stream",
          "name": "stdout",
          "text": [
            "Enter the first stringComputer\n",
            "Enter the second stringScience\n",
            "First string Computer\n",
            "Second string Science\n",
            "concatenations of two strings ComputerScience\n",
            "Substring of given string omp\n"
          ]
        }
      ]
    },
    {
      "cell_type": "markdown",
      "source": [
        " Write a python script to print the current date in the following format\n",
        "“Sun May 29 02:26:23 IST 2017\""
      ],
      "metadata": {
        "id": "BhP1bgu5w4Qu"
      }
    },
    {
      "cell_type": "code",
      "source": [
        "import time\n",
        "ltime=time.localtime()\n",
        "print(time.strftime(\"%a %b %d %H:%M:%S %Z %Y\",ltime))# returns the formatted time\n",
        "\n",
        "#strftime.org get the code"
      ],
      "metadata": {
        "colab": {
          "base_uri": "https://localhost:8080/"
        },
        "id": "vwknR-tXwoM1",
        "outputId": "89524071-3d46-4c7a-dea8-774c516ed7c5"
      },
      "execution_count": null,
      "outputs": [
        {
          "output_type": "stream",
          "name": "stdout",
          "text": [
            "Mon Jan 02 18:39:40 UTC 2023\n"
          ]
        }
      ]
    },
    {
      "cell_type": "markdown",
      "source": [
        "5. Write a program to create, append, and remove lists in python"
      ],
      "metadata": {
        "id": "2NsZWmWwyUwu"
      }
    },
    {
      "cell_type": "code",
      "source": [
        "my_list=[]\n",
        "my_list=[1,2,3]\n",
        "my_list.append(4)\n",
        "print(my_list)"
      ],
      "metadata": {
        "colab": {
          "base_uri": "https://localhost:8080/"
        },
        "id": "0MBcUYI9yDeg",
        "outputId": "870e5bad-375c-4a4a-f931-88be307341cb"
      },
      "execution_count": null,
      "outputs": [
        {
          "output_type": "stream",
          "name": "stdout",
          "text": [
            "[1, 2, 3, 4]\n"
          ]
        }
      ]
    },
    {
      "cell_type": "code",
      "source": [
        "my_list.remove(4)\n",
        "print(my_list)"
      ],
      "metadata": {
        "colab": {
          "base_uri": "https://localhost:8080/"
        },
        "id": "OFUH2W-Bymmq",
        "outputId": "0e9bb6cb-be2d-4e2b-a606-8335033f9727"
      },
      "execution_count": null,
      "outputs": [
        {
          "output_type": "stream",
          "name": "stdout",
          "text": [
            "[1, 2, 3]\n"
          ]
        }
      ]
    },
    {
      "cell_type": "code",
      "source": [
        "my_list.pop()# removes the last element \n",
        "print(my_list)"
      ],
      "metadata": {
        "colab": {
          "base_uri": "https://localhost:8080/"
        },
        "id": "gIPfu9Aby7rG",
        "outputId": "51f54b19-8501-4cb7-dac4-5e1e8d64d98a"
      },
      "execution_count": null,
      "outputs": [
        {
          "output_type": "stream",
          "name": "stdout",
          "text": [
            "[1, 2]\n"
          ]
        }
      ]
    },
    {
      "cell_type": "code",
      "source": [
        "my_list.pop(0) # if index given removes the index element\n",
        "print(my_list)"
      ],
      "metadata": {
        "colab": {
          "base_uri": "https://localhost:8080/"
        },
        "id": "3850eWVjzEZg",
        "outputId": "db53e0a2-be72-4cec-9cc0-2707e08244ea"
      },
      "execution_count": null,
      "outputs": [
        {
          "output_type": "stream",
          "name": "stdout",
          "text": [
            "[2]\n"
          ]
        }
      ]
    },
    {
      "cell_type": "code",
      "source": [
        "del my_list"
      ],
      "metadata": {
        "id": "1efDf39TzLyw"
      },
      "execution_count": null,
      "outputs": []
    },
    {
      "cell_type": "code",
      "source": [
        "print(my_list)"
      ],
      "metadata": {
        "colab": {
          "base_uri": "https://localhost:8080/",
          "height": 169
        },
        "id": "8tO1l2pjzaZJ",
        "outputId": "63e55728-7d7e-43be-c81c-7cb0eb4801db"
      },
      "execution_count": null,
      "outputs": [
        {
          "output_type": "error",
          "ename": "NameError",
          "evalue": "ignored",
          "traceback": [
            "\u001b[0;31m---------------------------------------------------------------------------\u001b[0m",
            "\u001b[0;31mNameError\u001b[0m                                 Traceback (most recent call last)",
            "\u001b[0;32m<ipython-input-10-77fb34908292>\u001b[0m in \u001b[0;36m<module>\u001b[0;34m\u001b[0m\n\u001b[0;32m----> 1\u001b[0;31m \u001b[0mprint\u001b[0m\u001b[0;34m(\u001b[0m\u001b[0mmy_list\u001b[0m\u001b[0;34m)\u001b[0m\u001b[0;34m\u001b[0m\u001b[0;34m\u001b[0m\u001b[0m\n\u001b[0m",
            "\u001b[0;31mNameError\u001b[0m: name 'my_list' is not defined"
          ]
        }
      ]
    },
    {
      "cell_type": "markdown",
      "source": [
        "Write a program to demonstrate working with tuples in python"
      ],
      "metadata": {
        "id": "K8XW8WKSzqoO"
      }
    },
    {
      "cell_type": "code",
      "source": [
        "#empty tuple\n",
        "my_tuple=()\n",
        "print(my_tuple)"
      ],
      "metadata": {
        "colab": {
          "base_uri": "https://localhost:8080/"
        },
        "id": "b3ZmJowqzcZY",
        "outputId": "bbb2619f-ed9d-4dc4-be9e-f33c4ff8cdaf"
      },
      "execution_count": null,
      "outputs": [
        {
          "output_type": "stream",
          "name": "stdout",
          "text": [
            "()\n"
          ]
        }
      ]
    },
    {
      "cell_type": "code",
      "source": [
        "#tuple having integers\n",
        "my_tuple=(1,2,3)\n",
        "print(my_tuple)"
      ],
      "metadata": {
        "colab": {
          "base_uri": "https://localhost:8080/"
        },
        "id": "xOHhM2rdz0bi",
        "outputId": "1b02a0b2-e2e9-449e-9770-0ad6fb9da2d2"
      },
      "execution_count": null,
      "outputs": [
        {
          "output_type": "stream",
          "name": "stdout",
          "text": [
            "(1, 2, 3)\n"
          ]
        }
      ]
    },
    {
      "cell_type": "markdown",
      "source": [
        "Write a python program to find largest of three numbers."
      ],
      "metadata": {
        "id": "gKdc2Q9V0L73"
      }
    },
    {
      "cell_type": "code",
      "source": [
        "#input three numbers\n",
        "num1=int(input(\"Enter the 1st number\"))\n",
        "num2=int(input(\"Enter the 2nd number\"))\n",
        "num3=int(input(\"Enter the 3rd number\"))\n",
        "\n",
        "if (num1>num2) & (num1>num3):\n",
        "  largest=num1\n",
        "elif (num2>num1) & (num2> num3):\n",
        "  largest=num2\n",
        "else:\n",
        "  largest=num3 \n",
        "\n",
        "print(\"The largest number is\", largest)"
      ],
      "metadata": {
        "colab": {
          "base_uri": "https://localhost:8080/"
        },
        "id": "KyMiDYeKz9d6",
        "outputId": "e67f7b66-8366-4dc5-9302-56c543850d56"
      },
      "execution_count": null,
      "outputs": [
        {
          "output_type": "stream",
          "name": "stdout",
          "text": [
            "Enter the 1st number6\n",
            "Enter the 2nd number3\n",
            "Enter the 3rd number4\n",
            "The largest number is 6\n"
          ]
        }
      ]
    },
    {
      "cell_type": "markdown",
      "source": [
        "Write a Python program to convert temperatures to and from Celsius,\n",
        "Fahrenheit. [ Formula: c = (f-32)(5/9)]"
      ],
      "metadata": {
        "id": "r6yqvmIe1Nj1"
      }
    },
    {
      "cell_type": "code",
      "source": [
        "temp=float(input(\"Enter Temperature\"))\n",
        "unit=input(\"Enter unit('c' for Celsius of 'F' for Fahrenheit)\")\n",
        "\n",
        "if unit=='C'or unit==\"c\":\n",
        "  newtemp=round((9/5)*temp+32,2)\n",
        "  print(\"Temperature in Fahrenheit=\",newtemp)\n",
        "elif unit=='F' or unit=='f':\n",
        "  newtemp=round((5/9)*(temp-32),2)\n",
        "  print(\"Temperature in Celsius =\",newtemp)\n",
        "else:\n",
        "  print(\"Unknown unit\",unit)"
      ],
      "metadata": {
        "colab": {
          "base_uri": "https://localhost:8080/"
        },
        "id": "fs1TSqM81Byp",
        "outputId": "9efcd1ca-c208-4306-cb63-8c18cb0b8262"
      },
      "execution_count": null,
      "outputs": [
        {
          "output_type": "stream",
          "name": "stdout",
          "text": [
            "Enter Temperature100\n",
            "Enter unit('c' for Celsius of 'F' for Fahrenheit)f\n",
            "Temperature in Celsius = 37.78\n"
          ]
        }
      ]
    },
    {
      "cell_type": "markdown",
      "source": [
        "Write a Python program to construct the following pattern, using a\n",
        "nested for loop\n",
        "\n",
        "\n",
        "```\n",
        "*\n",
        "**\n",
        "***\n",
        "****\n",
        "*****\n",
        "****\n",
        "***\n",
        "**\n",
        "*\n",
        "```\n",
        "\n",
        "\n",
        "\n",
        "\n",
        "\n",
        "\n"
      ],
      "metadata": {
        "id": "3J_2sk-x2wVY"
      }
    },
    {
      "cell_type": "code",
      "source": [
        "for i in range(1,5):\n",
        "  print(\"*\"*i)\n",
        "for i in range(5,0,-1):\n",
        "  print(\"*\"*i) "
      ],
      "metadata": {
        "colab": {
          "base_uri": "https://localhost:8080/"
        },
        "id": "t3AmdU4z2axB",
        "outputId": "6aa9edfe-a804-48e8-ceba-71caef909815"
      },
      "execution_count": null,
      "outputs": [
        {
          "output_type": "stream",
          "name": "stdout",
          "text": [
            "*\n",
            "**\n",
            "***\n",
            "****\n",
            "*****\n",
            "****\n",
            "***\n",
            "**\n",
            "*\n"
          ]
        }
      ]
    },
    {
      "cell_type": "code",
      "source": [
        "for i in range(5):\n",
        "  for j in range(i):\n",
        "    print(\"*\",end=\"\")\n",
        "  print('')\n",
        "\n",
        "for i in range(5,0,-1):\n",
        "  for j in range(i):\n",
        "    print(\"*\",end=\"\")\n",
        "\n",
        "  print(\"\")"
      ],
      "metadata": {
        "colab": {
          "base_uri": "https://localhost:8080/"
        },
        "id": "dKgzfJCs3nH3",
        "outputId": "5aa3daef-e1e5-4d8f-b8d8-d35fb7aea7f4"
      },
      "execution_count": null,
      "outputs": [
        {
          "output_type": "stream",
          "name": "stdout",
          "text": [
            "\n",
            "*\n",
            "**\n",
            "***\n",
            "****\n",
            "*****\n",
            "****\n",
            "***\n",
            "**\n",
            "*\n"
          ]
        }
      ]
    },
    {
      "cell_type": "markdown",
      "source": [
        " Write a Python script that prints prime numbers less than 20"
      ],
      "metadata": {
        "id": "MjrgdunP4xJD"
      }
    },
    {
      "cell_type": "code",
      "source": [
        "s=set()\n",
        "for num in range(2,20):\n",
        "  for i in range(2,num):\n",
        "    if (num%i)==0:\n",
        "      break\n",
        "    else:\n",
        "      s.add(num)\n",
        "print(s)"
      ],
      "metadata": {
        "colab": {
          "base_uri": "https://localhost:8080/"
        },
        "id": "td2zt5rD38Ei",
        "outputId": "b5a080c7-f6e4-47cb-ab50-2762d91ff17d"
      },
      "execution_count": null,
      "outputs": [
        {
          "output_type": "stream",
          "name": "stdout",
          "text": [
            "{3, 5, 7, 9, 11, 13, 15, 17, 19}\n"
          ]
        }
      ]
    },
    {
      "cell_type": "markdown",
      "source": [
        "Write a python program to find factorial of a number using Recursion"
      ],
      "metadata": {
        "id": "FmZgt8n06ZCr"
      }
    },
    {
      "cell_type": "code",
      "source": [
        "def recur_factorial(n):\n",
        "  if n==1:\n",
        "    return n\n",
        "  else:\n",
        "    return n*recur_factorial(n-1)\n",
        "\n",
        "#take input from the user\n",
        "num=int(input(\"Enter a number\"))\n",
        "\n",
        "if num<0:\n",
        "  print(\"sorry factorial does not exist for negative numbers\")\n",
        "elif num==0:\n",
        "  print(\"the factorial of 0 is 1\")\n",
        "else :\n",
        "  print(f\"The factorial of {num} is {recur_factorial(num)}\")"
      ],
      "metadata": {
        "colab": {
          "base_uri": "https://localhost:8080/"
        },
        "id": "-oOcaCr55kqM",
        "outputId": "c8580b06-5524-4595-a123-ec6f0c0b7616"
      },
      "execution_count": null,
      "outputs": [
        {
          "output_type": "stream",
          "name": "stdout",
          "text": [
            "Enter a number5\n",
            "The factorial of 5 is 120\n"
          ]
        }
      ]
    },
    {
      "cell_type": "code",
      "source": [],
      "metadata": {
        "id": "Gwp7nM6J7OyX"
      },
      "execution_count": null,
      "outputs": []
    }
  ]
}