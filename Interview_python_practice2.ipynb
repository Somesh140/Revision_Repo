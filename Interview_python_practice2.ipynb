{
  "nbformat": 4,
  "nbformat_minor": 0,
  "metadata": {
    "colab": {
      "provenance": [],
      "authorship_tag": "ABX9TyMRhawxAj/mHNxbDQXTmd+s",
      "include_colab_link": true
    },
    "kernelspec": {
      "name": "python3",
      "display_name": "Python 3"
    },
    "language_info": {
      "name": "python"
    }
  },
  "cells": [
    {
      "cell_type": "markdown",
      "metadata": {
        "id": "view-in-github",
        "colab_type": "text"
      },
      "source": [
        "<a href=\"https://colab.research.google.com/github/Somesh140/Revision_Repo/blob/main/Interview_python_practice2.ipynb\" target=\"_parent\"><img src=\"https://colab.research.google.com/assets/colab-badge.svg\" alt=\"Open In Colab\"/></a>"
      ]
    },
    {
      "cell_type": "markdown",
      "source": [
        "1 . you have to write a fun which will take string and return a len of \n",
        "it without using a inbuilt fun len"
      ],
      "metadata": {
        "id": "t3x2vpPm8Vqv"
      }
    },
    {
      "cell_type": "code",
      "execution_count": null,
      "metadata": {
        "colab": {
          "base_uri": "https://localhost:8080/"
        },
        "id": "FpdHVhBa0zeK",
        "outputId": "7fbc1944-cf27-4d3a-d0b3-014caecde763"
      },
      "outputs": [
        {
          "output_type": "stream",
          "name": "stdout",
          "text": [
            "Enter stringabcd\n",
            "length of string 4\n"
          ]
        }
      ],
      "source": [
        "def length(string):\n",
        "  \"\"\"returns the length of the string\"\"\"\n",
        "  l=0\n",
        "  for i in string:\n",
        "    l+=1\n",
        "  return l\n",
        "\n",
        "a=input(\"Enter string\")\n",
        "print(\"length of string\",length(a))"
      ]
    },
    {
      "cell_type": "markdown",
      "source": [
        "3 . Write a fun which will take input as a dict and give me out as a list of all the values \n",
        "even in case of 2 level nesting it should work . "
      ],
      "metadata": {
        "id": "i61ONgFA9XYe"
      }
    },
    {
      "cell_type": "code",
      "source": [
        "\n",
        "def dict_to_list(d1:dict)->list:\n",
        "  l=[]\n",
        "  for i in d1:\n",
        "    if type(d1[i])==dict:\n",
        "      for j in d1[i]:\n",
        "        l.append(d1[i][j])\n",
        "    elif type(d1[i])==list:\n",
        "      l.extend(d1[i])\n",
        "    elif type(d1[i])==tuple:\n",
        "      for j in range(len(d1[i])):\n",
        "        l.append(d1[i][j])\n",
        "    else:\n",
        "      l.append(d1[i])\n",
        "  return l\n"
      ],
      "metadata": {
        "id": "SU-bRpEM9Shu"
      },
      "execution_count": null,
      "outputs": []
    },
    {
      "cell_type": "code",
      "source": [
        "d={\"key1\":[1,2,3],\"key2\":{\"a\":41,\"b\":\"asd\"},\"key3\":(3,4,5)}\n",
        "c=dict_to_list(d)\n",
        "print(c)"
      ],
      "metadata": {
        "colab": {
          "base_uri": "https://localhost:8080/"
        },
        "id": "Qcb8CVPb9AuA",
        "outputId": "e9a8c246-4fc8-4126-af17-caa24439ba43"
      },
      "execution_count": null,
      "outputs": [
        {
          "output_type": "stream",
          "name": "stdout",
          "text": [
            "[1, 2, 3, 41, 'asd', 3, 4, 5]\n"
          ]
        }
      ]
    },
    {
      "cell_type": "markdown",
      "source": [
        "4 . write a fun which will take another function as an input and return me an output "
      ],
      "metadata": {
        "id": "n_IQIvJc_4kW"
      }
    },
    {
      "cell_type": "code",
      "source": [
        "def operation(func):\n",
        "  print(\"operataion function was called\")\n",
        "\n",
        "def func1():\n",
        "  print(\"func1 was called\")\n",
        "\n",
        "def func2():\n",
        "  print(\"func2 was called\")\n"
      ],
      "metadata": {
        "id": "t4M2uOnO_PCa"
      },
      "execution_count": null,
      "outputs": []
    },
    {
      "cell_type": "code",
      "source": [
        "operation(func1())"
      ],
      "metadata": {
        "colab": {
          "base_uri": "https://localhost:8080/"
        },
        "id": "cF9pHYOjAXJf",
        "outputId": "c1b59bcb-a1d0-48c1-bc5a-6595570ad1e4"
      },
      "execution_count": null,
      "outputs": [
        {
          "output_type": "stream",
          "name": "stdout",
          "text": [
            "func1 was called\n",
            "operataion function was called\n"
          ]
        }
      ]
    },
    {
      "cell_type": "code",
      "source": [
        "operation(func2())"
      ],
      "metadata": {
        "colab": {
          "base_uri": "https://localhost:8080/"
        },
        "id": "s_f8Am1vAbZ-",
        "outputId": "5f045aec-4608-4e6b-c6d3-ac834db7b793"
      },
      "execution_count": null,
      "outputs": [
        {
          "output_type": "stream",
          "name": "stdout",
          "text": [
            "func2 was called\n",
            "operataion function was called\n"
          ]
        }
      ]
    },
    {
      "cell_type": "markdown",
      "source": [
        " write a function which will take multiple list as a input and give me concatnation of all the element as \n",
        "and output"
      ],
      "metadata": {
        "id": "5TnMHQAEA1Dn"
      }
    },
    {
      "cell_type": "code",
      "source": [
        "def concat_list(a,b,c):\n",
        "  a.extend(b)\n",
        "  a.extend(c)\n",
        "  return a"
      ],
      "metadata": {
        "id": "1UhYkFmmAsNW"
      },
      "execution_count": null,
      "outputs": []
    },
    {
      "cell_type": "code",
      "source": [
        "l1=[12345]\n",
        "l2=[\"Somesh\"]\n",
        "l3=[\"a\",\"d\",\"e\",\"f\"]\n",
        "\n",
        "f=concat_list(l1,l2,l3)\n",
        "f"
      ],
      "metadata": {
        "colab": {
          "base_uri": "https://localhost:8080/"
        },
        "id": "_r1x6vdEBuDe",
        "outputId": "7aecceb5-f23a-493f-bf75-90b504a8af65"
      },
      "execution_count": null,
      "outputs": [
        {
          "output_type": "execute_result",
          "data": {
            "text/plain": [
              "[12345, 'Somesh', 'a', 'd', 'e', 'f']"
            ]
          },
          "metadata": {},
          "execution_count": 14
        }
      ]
    },
    {
      "cell_type": "markdown",
      "source": [
        "write a function which will be able to take a list as an input return an index of each element \n",
        "like a inbuilt index function but even if we have repetative element it should return index "
      ],
      "metadata": {
        "id": "g9WgiXvFCfJ1"
      }
    },
    {
      "cell_type": "code",
      "source": [
        "def index_list(a):\n",
        "  for i in range(len(a)):\n",
        "    print(\"index of {} in the list is {}\".format(a[i],i))\n"
      ],
      "metadata": {
        "id": "LlswAvrCCMES"
      },
      "execution_count": null,
      "outputs": []
    },
    {
      "cell_type": "code",
      "source": [
        "l1=[12345,\"Somesh\",1,2,3,4,5,2,3,3,1]\n",
        "index_list(l1)"
      ],
      "metadata": {
        "colab": {
          "base_uri": "https://localhost:8080/"
        },
        "id": "EUYQUgVZC7Uo",
        "outputId": "c43bcd6b-10b0-42c0-c752-de39febb29f3"
      },
      "execution_count": null,
      "outputs": [
        {
          "output_type": "stream",
          "name": "stdout",
          "text": [
            "index of 12345 in the list is 0\n",
            "index of Somesh in the list is 1\n",
            "index of 1 in the list is 2\n",
            "index of 2 in the list is 3\n",
            "index of 3 in the list is 4\n",
            "index of 4 in the list is 5\n",
            "index of 5 in the list is 6\n",
            "index of 2 in the list is 7\n",
            "index of 3 in the list is 8\n",
            "index of 3 in the list is 9\n",
            "index of 1 in the list is 10\n"
          ]
        }
      ]
    },
    {
      "cell_type": "markdown",
      "source": [
        "Write a function which will whould return list of all the file name from a directory ."
      ],
      "metadata": {
        "id": "vhs986FKDSfT"
      }
    },
    {
      "cell_type": "code",
      "source": [
        "def all_files():\n",
        "  import os\n",
        "\n",
        "  #path of the directory\n",
        "  path=input(\"enter directory\")\n",
        "\n",
        "  list_dir=os.listdir(path)\n",
        "\n",
        "  #print files in the path\n",
        "  print(\"files in {} \".format(path))\n",
        "\n",
        "  return list_dir"
      ],
      "metadata": {
        "id": "FjKIdt2gDECT"
      },
      "execution_count": null,
      "outputs": []
    },
    {
      "cell_type": "code",
      "source": [
        "l1=all_files()\n",
        "for i in l1:\n",
        "  print(i)"
      ],
      "metadata": {
        "colab": {
          "base_uri": "https://localhost:8080/"
        },
        "id": "155uTnyaD18h",
        "outputId": "7919c30d-79ad-460f-ebca-d4896330d88d"
      },
      "execution_count": null,
      "outputs": [
        {
          "output_type": "stream",
          "name": "stdout",
          "text": [
            "enter directory/content/sample_data\n",
            "files in /content/sample_data \n",
            "anscombe.json\n",
            "README.md\n",
            "mnist_test.csv\n",
            "california_housing_test.csv\n",
            "california_housing_train.csv\n",
            "mnist_train_small.csv\n"
          ]
        }
      ]
    },
    {
      "cell_type": "markdown",
      "source": [
        "write a function which will be able to show your system configuration . "
      ],
      "metadata": {
        "id": "hhCJkhXjEZ6w"
      }
    },
    {
      "cell_type": "code",
      "source": [
        "def system():\n",
        "  import os\n",
        "  print(os.uname())"
      ],
      "metadata": {
        "id": "PZvgc0HQEI_G"
      },
      "execution_count": null,
      "outputs": []
    },
    {
      "cell_type": "code",
      "source": [
        "system()"
      ],
      "metadata": {
        "colab": {
          "base_uri": "https://localhost:8080/"
        },
        "id": "gHcoqZeNEyOQ",
        "outputId": "35711f9c-883f-4b64-fbbc-e2b8fae92dd4"
      },
      "execution_count": null,
      "outputs": [
        {
          "output_type": "stream",
          "name": "stdout",
          "text": [
            "posix.uname_result(sysname='Linux', nodename='c1ea70c64087', release='5.10.133+', version='#1 SMP Fri Aug 26 08:44:51 UTC 2022', machine='x86_64')\n"
          ]
        }
      ]
    },
    {
      "cell_type": "markdown",
      "source": [
        "write a function which will be able to show date and time ."
      ],
      "metadata": {
        "id": "6-efgOHyFG45"
      }
    },
    {
      "cell_type": "code",
      "source": [
        "import datetime\n",
        "\n",
        "def show_date_time():\n",
        "  print(datetime.datetime.now().strftime(\"%d-%m-%Y %H-%M-%S\"))"
      ],
      "metadata": {
        "id": "k22ifedaE0jb"
      },
      "execution_count": null,
      "outputs": []
    },
    {
      "cell_type": "code",
      "source": [
        "show_date_time()"
      ],
      "metadata": {
        "colab": {
          "base_uri": "https://localhost:8080/"
        },
        "id": "f50VhduiFk0Z",
        "outputId": "c64653f6-7b51-4f5a-8e52-be80082a6441"
      },
      "execution_count": null,
      "outputs": [
        {
          "output_type": "stream",
          "name": "stdout",
          "text": [
            "04-01-2023 18-41-19\n"
          ]
        }
      ]
    },
    {
      "cell_type": "markdown",
      "source": [
        "create a sqlite3 db in that create a table and insert some values in it and execute a select query"
      ],
      "metadata": {
        "id": "-3hMh3MUGFED"
      }
    },
    {
      "cell_type": "code",
      "source": [
        "import sqlite3\n",
        "\n",
        "conn=sqlite3.connect(\"mydb.db\")\n",
        "conn.execute(\"Create table if not exists pet('type', 'bread', 'gender', 'name')\")\n",
        "conn.execute(\"Insert into pet values('dog','labrador','female','silky')\")\n",
        "conn.execute(\"Insert into pet values('cat','persian','male','Oscar')\")\n",
        "results=conn.execute(\"Select * from pet where type='dog'\")\n",
        "for result in results:\n",
        "  print(result)\n",
        "conn.close()"
      ],
      "metadata": {
        "colab": {
          "base_uri": "https://localhost:8080/"
        },
        "id": "AAuGymStFnKs",
        "outputId": "d0a4cb0d-34a8-4532-c659-fc49f8b2d340"
      },
      "execution_count": null,
      "outputs": [
        {
          "output_type": "stream",
          "name": "stdout",
          "text": [
            "('dog', 'labrador', 'female', 'silky')\n"
          ]
        }
      ]
    },
    {
      "cell_type": "code",
      "source": [
        "conn=sqlite3.connect(\"mydb.db\")\n",
        "results=conn.execute(\"Select 'bread', 'name' from pet where type='dog'\")\n",
        "for result in results:\n",
        "  print(result)\n",
        "conn.close()"
      ],
      "metadata": {
        "id": "JKPsh5dNH8K2"
      },
      "execution_count": null,
      "outputs": []
    },
    {
      "cell_type": "code",
      "source": [],
      "metadata": {
        "colab": {
          "base_uri": "https://localhost:8080/"
        },
        "id": "H8H2ePDaIsx-",
        "outputId": "b50d9dce-ea4f-4fad-d4d7-f54e14c52fee"
      },
      "execution_count": null,
      "outputs": [
        {
          "output_type": "execute_result",
          "data": {
            "text/plain": [
              "<sqlite3.Cursor at 0x7f2f134c03b0>"
            ]
          },
          "metadata": {},
          "execution_count": 35
        }
      ]
    },
    {
      "cell_type": "code",
      "source": [],
      "metadata": {
        "id": "vRaM3dadI8ui"
      },
      "execution_count": null,
      "outputs": []
    }
  ]
}