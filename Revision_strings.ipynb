{
  "nbformat": 4,
  "nbformat_minor": 0,
  "metadata": {
    "colab": {
      "provenance": [],
      "authorship_tag": "ABX9TyNCxGZdrkdK8BPGQiQrSp/h",
      "include_colab_link": true
    },
    "kernelspec": {
      "name": "python3",
      "display_name": "Python 3"
    },
    "language_info": {
      "name": "python"
    }
  },
  "cells": [
    {
      "cell_type": "markdown",
      "metadata": {
        "id": "view-in-github",
        "colab_type": "text"
      },
      "source": [
        "<a href=\"https://colab.research.google.com/github/Somesh140/Revision_Repo/blob/main/Revision_strings.ipynb\" target=\"_parent\"><img src=\"https://colab.research.google.com/assets/colab-badge.svg\" alt=\"Open In Colab\"/></a>"
      ]
    },
    {
      "cell_type": "code",
      "execution_count": 1,
      "metadata": {
        "id": "oQkC11x8o9Oh"
      },
      "outputs": [],
      "source": [
        "s=\"Ekeeda\""
      ]
    },
    {
      "cell_type": "code",
      "source": [
        "s1='ekeeda'"
      ],
      "metadata": {
        "id": "x4aWDY9ArlNk"
      },
      "execution_count": 2,
      "outputs": []
    },
    {
      "cell_type": "code",
      "source": [
        "s2=\"and? it's the wrong string\""
      ],
      "metadata": {
        "id": "YMCPN3uurnMz"
      },
      "execution_count": 3,
      "outputs": []
    },
    {
      "cell_type": "code",
      "source": [
        "len(s)"
      ],
      "metadata": {
        "colab": {
          "base_uri": "https://localhost:8080/"
        },
        "id": "CSyu-FKJr3mm",
        "outputId": "0e2d79c6-51c5-4425-d712-feea6d07d8d7"
      },
      "execution_count": 4,
      "outputs": [
        {
          "output_type": "execute_result",
          "data": {
            "text/plain": [
              "6"
            ]
          },
          "metadata": {},
          "execution_count": 4
        }
      ]
    },
    {
      "cell_type": "code",
      "source": [
        "str(123)"
      ],
      "metadata": {
        "colab": {
          "base_uri": "https://localhost:8080/",
          "height": 36
        },
        "id": "72yqdSEqr6Dq",
        "outputId": "2d7894b2-9bb5-44a8-fb2f-a78a1434b371"
      },
      "execution_count": 5,
      "outputs": [
        {
          "output_type": "execute_result",
          "data": {
            "text/plain": [
              "'123'"
            ],
            "application/vnd.google.colaboratory.intrinsic+json": {
              "type": "string"
            }
          },
          "metadata": {},
          "execution_count": 5
        }
      ]
    },
    {
      "cell_type": "code",
      "source": [
        "print(s+\" \"+s1)"
      ],
      "metadata": {
        "colab": {
          "base_uri": "https://localhost:8080/"
        },
        "id": "VfH9pJQjr-Nn",
        "outputId": "28e856f7-f61d-4c7e-a601-72fd116bd3da"
      },
      "execution_count": 7,
      "outputs": [
        {
          "output_type": "stream",
          "name": "stdout",
          "text": [
            "Ekeeda ekeeda\n"
          ]
        }
      ]
    },
    {
      "cell_type": "code",
      "source": [
        "\"ekeeda\"\n",
        "012345\n",
        "-6-5-4-3-2-1"
      ],
      "metadata": {
        "id": "RGzeP77isIdb"
      },
      "execution_count": null,
      "outputs": []
    },
    {
      "cell_type": "code",
      "source": [
        "s=\"My_string\"#slicing\n",
        "s[3:8]"
      ],
      "metadata": {
        "colab": {
          "base_uri": "https://localhost:8080/",
          "height": 36
        },
        "id": "LdLyrbpnsn48",
        "outputId": "f320fc1c-3e23-4dc3-fbec-7dcd1d7fd7f9"
      },
      "execution_count": 8,
      "outputs": [
        {
          "output_type": "execute_result",
          "data": {
            "text/plain": [
              "'strin'"
            ],
            "application/vnd.google.colaboratory.intrinsic+json": {
              "type": "string"
            }
          },
          "metadata": {},
          "execution_count": 8
        }
      ]
    },
    {
      "cell_type": "code",
      "source": [
        "#stride\n",
        "s[0:8:2]"
      ],
      "metadata": {
        "colab": {
          "base_uri": "https://localhost:8080/",
          "height": 36
        },
        "id": "MHUryz8fsw5o",
        "outputId": "92e1e72a-4057-4ff6-f062-ebce815ba142"
      },
      "execution_count": 9,
      "outputs": [
        {
          "output_type": "execute_result",
          "data": {
            "text/plain": [
              "'M_ti'"
            ],
            "application/vnd.google.colaboratory.intrinsic+json": {
              "type": "string"
            }
          },
          "metadata": {},
          "execution_count": 9
        }
      ]
    },
    {
      "cell_type": "code",
      "source": [
        "s[::-1]"
      ],
      "metadata": {
        "colab": {
          "base_uri": "https://localhost:8080/",
          "height": 36
        },
        "id": "nuX0M_sZtF5D",
        "outputId": "570f03fb-7973-490c-e8fd-e3269c6aa92f"
      },
      "execution_count": 10,
      "outputs": [
        {
          "output_type": "execute_result",
          "data": {
            "text/plain": [
              "'gnirts_yM'"
            ],
            "application/vnd.google.colaboratory.intrinsic+json": {
              "type": "string"
            }
          },
          "metadata": {},
          "execution_count": 10
        }
      ]
    },
    {
      "cell_type": "code",
      "source": [
        "my=\"tHis Is a niCE String\"\n",
        "print(my.lower())"
      ],
      "metadata": {
        "colab": {
          "base_uri": "https://localhost:8080/"
        },
        "id": "o69R6yg0tRP3",
        "outputId": "b1fe2668-57d0-4ed1-b182-673a2b0adc4e"
      },
      "execution_count": 12,
      "outputs": [
        {
          "output_type": "stream",
          "name": "stdout",
          "text": [
            "this is a nice string\n"
          ]
        }
      ]
    },
    {
      "cell_type": "code",
      "source": [
        "print(my.upper())"
      ],
      "metadata": {
        "colab": {
          "base_uri": "https://localhost:8080/"
        },
        "id": "jOBRKC7xtif0",
        "outputId": "1e71041d-3aad-47b0-f093-a89d5b2aa7ee"
      },
      "execution_count": 13,
      "outputs": [
        {
          "output_type": "stream",
          "name": "stdout",
          "text": [
            "THIS IS A NICE STRING\n"
          ]
        }
      ]
    },
    {
      "cell_type": "code",
      "source": [
        "my"
      ],
      "metadata": {
        "colab": {
          "base_uri": "https://localhost:8080/",
          "height": 36
        },
        "id": "OiIPmhhKttJn",
        "outputId": "1062dd7f-9c7a-4ddb-d8c5-aabc2c6d09bd"
      },
      "execution_count": 14,
      "outputs": [
        {
          "output_type": "execute_result",
          "data": {
            "text/plain": [
              "'tHis Is a niCE String'"
            ],
            "application/vnd.google.colaboratory.intrinsic+json": {
              "type": "string"
            }
          },
          "metadata": {},
          "execution_count": 14
        }
      ]
    },
    {
      "cell_type": "code",
      "source": [
        "my=my.upper()"
      ],
      "metadata": {
        "id": "PModzEXlt1Ds"
      },
      "execution_count": 15,
      "outputs": []
    },
    {
      "cell_type": "code",
      "source": [
        "my"
      ],
      "metadata": {
        "colab": {
          "base_uri": "https://localhost:8080/",
          "height": 36
        },
        "id": "RNOP7NL_t6Bx",
        "outputId": "ccfebb5e-32bc-48a0-c0ce-45a164231fd6"
      },
      "execution_count": 16,
      "outputs": [
        {
          "output_type": "execute_result",
          "data": {
            "text/plain": [
              "'THIS IS A NICE STRING'"
            ],
            "application/vnd.google.colaboratory.intrinsic+json": {
              "type": "string"
            }
          },
          "metadata": {},
          "execution_count": 16
        }
      ]
    },
    {
      "cell_type": "code",
      "source": [
        "my=my.capitalize()"
      ],
      "metadata": {
        "id": "97m0YItqt7C5"
      },
      "execution_count": 18,
      "outputs": []
    },
    {
      "cell_type": "code",
      "source": [
        "my"
      ],
      "metadata": {
        "colab": {
          "base_uri": "https://localhost:8080/",
          "height": 36
        },
        "id": "5Fq2cwYYuL5j",
        "outputId": "561430c0-e5b8-4c23-e7a8-a09438544a99"
      },
      "execution_count": 19,
      "outputs": [
        {
          "output_type": "execute_result",
          "data": {
            "text/plain": [
              "'This is a nice string'"
            ],
            "application/vnd.google.colaboratory.intrinsic+json": {
              "type": "string"
            }
          },
          "metadata": {},
          "execution_count": 19
        }
      ]
    },
    {
      "cell_type": "code",
      "source": [
        "#split()\n",
        "my.split(maxsplit=2)"
      ],
      "metadata": {
        "colab": {
          "base_uri": "https://localhost:8080/"
        },
        "id": "99LxXr7WuQ-n",
        "outputId": "7e358966-2754-456c-a91b-01e5ebcf5967"
      },
      "execution_count": 21,
      "outputs": [
        {
          "output_type": "execute_result",
          "data": {
            "text/plain": [
              "['This', 'is', 'a nice string']"
            ]
          },
          "metadata": {},
          "execution_count": 21
        }
      ]
    },
    {
      "cell_type": "code",
      "source": [
        "my.rsplit(maxsplit=2)"
      ],
      "metadata": {
        "colab": {
          "base_uri": "https://localhost:8080/"
        },
        "id": "SAEaPsBJuhX5",
        "outputId": "d6aaed90-3fd4-415f-d6a6-4efbfdc90823"
      },
      "execution_count": 22,
      "outputs": [
        {
          "output_type": "execute_result",
          "data": {
            "text/plain": [
              "['This is a', 'nice', 'string']"
            ]
          },
          "metadata": {},
          "execution_count": 22
        }
      ]
    },
    {
      "cell_type": "code",
      "source": [
        "s=\"python,gmail.com,\"\n",
        "a=s.rsplit(\",\")"
      ],
      "metadata": {
        "id": "odmaFRcHu3_4"
      },
      "execution_count": 28,
      "outputs": []
    },
    {
      "cell_type": "code",
      "source": [
        "a.pop()"
      ],
      "metadata": {
        "colab": {
          "base_uri": "https://localhost:8080/",
          "height": 36
        },
        "id": "uC3ov_uDvOZV",
        "outputId": "3c0158ac-902d-49af-fc5e-2fecd1191f90"
      },
      "execution_count": 29,
      "outputs": [
        {
          "output_type": "execute_result",
          "data": {
            "text/plain": [
              "''"
            ],
            "application/vnd.google.colaboratory.intrinsic+json": {
              "type": "string"
            }
          },
          "metadata": {},
          "execution_count": 29
        }
      ]
    },
    {
      "cell_type": "code",
      "source": [
        "a"
      ],
      "metadata": {
        "colab": {
          "base_uri": "https://localhost:8080/"
        },
        "id": "uoA3Pko6vjbn",
        "outputId": "fdc9a98a-7e7a-4e66-a758-59286527dad8"
      },
      "execution_count": 30,
      "outputs": [
        {
          "output_type": "execute_result",
          "data": {
            "text/plain": [
              "['python', 'gmail.com']"
            ]
          },
          "metadata": {},
          "execution_count": 30
        }
      ]
    },
    {
      "cell_type": "code",
      "source": [
        "my=\"This string will be split\\nin two\"\n",
        "print(my)"
      ],
      "metadata": {
        "colab": {
          "base_uri": "https://localhost:8080/"
        },
        "id": "8FgrB8zBvqie",
        "outputId": "d2f9484b-abec-4736-f289-f0ef8a7c0cc5"
      },
      "execution_count": 31,
      "outputs": [
        {
          "output_type": "stream",
          "name": "stdout",
          "text": [
            "This string will be split\n",
            "in two\n"
          ]
        }
      ]
    },
    {
      "cell_type": "code",
      "source": [
        "my=\"This string will be split\\rin two\"\n",
        "print(my)"
      ],
      "metadata": {
        "colab": {
          "base_uri": "https://localhost:8080/"
        },
        "id": "o1W9xz_xv3gB",
        "outputId": "2ec64ff2-8429-4e51-93f6-6ba97675a9c5"
      },
      "execution_count": 32,
      "outputs": [
        {
          "output_type": "stream",
          "name": "stdout",
          "text": [
            "This string will be split\rin two\n"
          ]
        }
      ]
    },
    {
      "cell_type": "code",
      "source": [
        "my=\"This string will be split\\nin two\"\n",
        "my.splitlines()"
      ],
      "metadata": {
        "colab": {
          "base_uri": "https://localhost:8080/"
        },
        "id": "KzYdo22EwH5z",
        "outputId": "7d619ad9-8d5e-4b34-edd4-08fafc8948f0"
      },
      "execution_count": 33,
      "outputs": [
        {
          "output_type": "execute_result",
          "data": {
            "text/plain": [
              "['This string will be split', 'in two']"
            ]
          },
          "metadata": {},
          "execution_count": 33
        }
      ]
    },
    {
      "cell_type": "code",
      "source": [
        "#sep.join(iterable) list tupple \n",
        "\" \".join(a)"
      ],
      "metadata": {
        "colab": {
          "base_uri": "https://localhost:8080/",
          "height": 36
        },
        "id": "TiRByyovwjRK",
        "outputId": "1f18df1c-90e9-4e0e-d253-c720a4dd42fc"
      },
      "execution_count": 34,
      "outputs": [
        {
          "output_type": "execute_result",
          "data": {
            "text/plain": [
              "'python gmail.com'"
            ],
            "application/vnd.google.colaboratory.intrinsic+json": {
              "type": "string"
            }
          },
          "metadata": {},
          "execution_count": 34
        }
      ]
    },
    {
      "cell_type": "code",
      "source": [
        "\"@\".join(a)"
      ],
      "metadata": {
        "colab": {
          "base_uri": "https://localhost:8080/",
          "height": 36
        },
        "id": "Nmsx2AEww_hz",
        "outputId": "7ab01b4c-bb24-40d2-a09a-139124e4a473"
      },
      "execution_count": 35,
      "outputs": [
        {
          "output_type": "execute_result",
          "data": {
            "text/plain": [
              "'python@gmail.com'"
            ],
            "application/vnd.google.colaboratory.intrinsic+json": {
              "type": "string"
            }
          },
          "metadata": {},
          "execution_count": 35
        }
      ]
    },
    {
      "cell_type": "code",
      "source": [
        "a=\"@\".join(a)"
      ],
      "metadata": {
        "id": "htWlTblyxGdq"
      },
      "execution_count": 37,
      "outputs": []
    },
    {
      "cell_type": "code",
      "source": [
        "a"
      ],
      "metadata": {
        "colab": {
          "base_uri": "https://localhost:8080/",
          "height": 36
        },
        "id": "i0WYTWB9xJVg",
        "outputId": "cc5253c5-750a-45ce-f940-e1e45fb71239"
      },
      "execution_count": 38,
      "outputs": [
        {
          "output_type": "execute_result",
          "data": {
            "text/plain": [
              "'python@gmail.com'"
            ],
            "application/vnd.google.colaboratory.intrinsic+json": {
              "type": "string"
            }
          },
          "metadata": {},
          "execution_count": 38
        }
      ]
    },
    {
      "cell_type": "code",
      "source": [
        "#strip()\n",
        "my=\"This string*\"\n",
        "my.strip(\"*\")"
      ],
      "metadata": {
        "colab": {
          "base_uri": "https://localhost:8080/",
          "height": 36
        },
        "id": "UMBnhSFLxPjj",
        "outputId": "f087f5dc-5259-40a1-db4f-9e5b01b11484"
      },
      "execution_count": 40,
      "outputs": [
        {
          "output_type": "execute_result",
          "data": {
            "text/plain": [
              "'This string'"
            ],
            "application/vnd.google.colaboratory.intrinsic+json": {
              "type": "string"
            }
          },
          "metadata": {},
          "execution_count": 40
        }
      ]
    },
    {
      "cell_type": "code",
      "source": [
        "#lstrip() rstrip()\n",
        "columns=\"ZN   \" #Keyerror\n",
        "columns.rstrip()"
      ],
      "metadata": {
        "colab": {
          "base_uri": "https://localhost:8080/",
          "height": 36
        },
        "id": "V5MXeFuExzzq",
        "outputId": "bbc96a41-067d-491d-d13a-c66f79c44812"
      },
      "execution_count": 41,
      "outputs": [
        {
          "output_type": "execute_result",
          "data": {
            "text/plain": [
              "'ZN'"
            ],
            "application/vnd.google.colaboratory.intrinsic+json": {
              "type": "string"
            }
          },
          "metadata": {},
          "execution_count": 41
        }
      ]
    },
    {
      "cell_type": "code",
      "source": [
        "columns=columns.rstrip()"
      ],
      "metadata": {
        "id": "sexrNGvFyf0U"
      },
      "execution_count": 43,
      "outputs": []
    },
    {
      "cell_type": "code",
      "source": [
        "columns"
      ],
      "metadata": {
        "colab": {
          "base_uri": "https://localhost:8080/",
          "height": 36
        },
        "id": "WRf35WJcyimF",
        "outputId": "a4c9dbb1-6adf-4f74-96fb-97337bee3821"
      },
      "execution_count": 44,
      "outputs": [
        {
          "output_type": "execute_result",
          "data": {
            "text/plain": [
              "'ZN'"
            ],
            "application/vnd.google.colaboratory.intrinsic+json": {
              "type": "string"
            }
          },
          "metadata": {},
          "execution_count": 44
        }
      ]
    },
    {
      "cell_type": "code",
      "source": [
        "my=\"Where is vijay?\"\n",
        "my.find(\"vijay\")"
      ],
      "metadata": {
        "colab": {
          "base_uri": "https://localhost:8080/"
        },
        "id": "4il9-uGnyp2F",
        "outputId": "cd18da1d-3729-4aac-f56c-ccf9124762a7"
      },
      "execution_count": 45,
      "outputs": [
        {
          "output_type": "execute_result",
          "data": {
            "text/plain": [
              "9"
            ]
          },
          "metadata": {},
          "execution_count": 45
        }
      ]
    },
    {
      "cell_type": "code",
      "source": [
        "my.find(\"ali\")"
      ],
      "metadata": {
        "colab": {
          "base_uri": "https://localhost:8080/"
        },
        "id": "Nu_hJfwGzFCa",
        "outputId": "7011bd81-fea9-45e5-a7a0-e96a0554eb21"
      },
      "execution_count": 46,
      "outputs": [
        {
          "output_type": "execute_result",
          "data": {
            "text/plain": [
              "-1"
            ]
          },
          "metadata": {},
          "execution_count": 46
        }
      ]
    },
    {
      "cell_type": "code",
      "source": [
        "my.index(\"vijay\")"
      ],
      "metadata": {
        "colab": {
          "base_uri": "https://localhost:8080/"
        },
        "id": "_niQKZ4AzPnO",
        "outputId": "754ab7c6-9f39-4385-d717-cfec49d2f134"
      },
      "execution_count": 47,
      "outputs": [
        {
          "output_type": "execute_result",
          "data": {
            "text/plain": [
              "9"
            ]
          },
          "metadata": {},
          "execution_count": 47
        }
      ]
    },
    {
      "cell_type": "code",
      "source": [
        "my.index(\"ali\")"
      ],
      "metadata": {
        "colab": {
          "base_uri": "https://localhost:8080/",
          "height": 169
        },
        "id": "g-rOombAzWNm",
        "outputId": "881758a3-8f50-4828-b943-5da98158d7d9"
      },
      "execution_count": 48,
      "outputs": [
        {
          "output_type": "error",
          "ename": "ValueError",
          "evalue": "ignored",
          "traceback": [
            "\u001b[0;31m---------------------------------------------------------------------------\u001b[0m",
            "\u001b[0;31mValueError\u001b[0m                                Traceback (most recent call last)",
            "\u001b[0;32m<ipython-input-48-8e019281c837>\u001b[0m in \u001b[0;36m<module>\u001b[0;34m\u001b[0m\n\u001b[0;32m----> 1\u001b[0;31m \u001b[0mmy\u001b[0m\u001b[0;34m.\u001b[0m\u001b[0mindex\u001b[0m\u001b[0;34m(\u001b[0m\u001b[0;34m\"ali\"\u001b[0m\u001b[0;34m)\u001b[0m\u001b[0;34m\u001b[0m\u001b[0;34m\u001b[0m\u001b[0m\n\u001b[0m",
            "\u001b[0;31mValueError\u001b[0m: substring not found"
          ]
        }
      ]
    },
    {
      "cell_type": "code",
      "source": [
        "try:\n",
        "  my.index(\"ali\")\n",
        "except ValueError:\n",
        "  print(\"Not Found\")"
      ],
      "metadata": {
        "colab": {
          "base_uri": "https://localhost:8080/"
        },
        "id": "gkD4ef46zY-K",
        "outputId": "97625084-29f8-4612-f8d9-40876e6dfa35"
      },
      "execution_count": 49,
      "outputs": [
        {
          "output_type": "stream",
          "name": "stdout",
          "text": [
            "Not Found\n"
          ]
        }
      ]
    },
    {
      "cell_type": "code",
      "source": [
        "my.find(\"vijay\",0,6)"
      ],
      "metadata": {
        "colab": {
          "base_uri": "https://localhost:8080/"
        },
        "id": "SdfFB3RJzoov",
        "outputId": "1f56b121-d77a-44bb-e88b-62f60a7ba0de"
      },
      "execution_count": 50,
      "outputs": [
        {
          "output_type": "execute_result",
          "data": {
            "text/plain": [
              "-1"
            ]
          },
          "metadata": {},
          "execution_count": 50
        }
      ]
    },
    {
      "cell_type": "code",
      "source": [
        "my=\"ram goes home ram eats food and bram sleeps\"\n",
        "my.count(\"ram\")"
      ],
      "metadata": {
        "colab": {
          "base_uri": "https://localhost:8080/"
        },
        "id": "pX18uX7Fz7To",
        "outputId": "d234e9dc-37a7-4f20-e66c-64a0c8388c47"
      },
      "execution_count": 52,
      "outputs": [
        {
          "output_type": "execute_result",
          "data": {
            "text/plain": [
              "3"
            ]
          },
          "metadata": {},
          "execution_count": 52
        }
      ]
    },
    {
      "cell_type": "code",
      "source": [
        "#string.replace(old,new,count)\n",
        "my.replace(\"ram\",\"john\",2)"
      ],
      "metadata": {
        "colab": {
          "base_uri": "https://localhost:8080/",
          "height": 36
        },
        "id": "U0nH1th_0OL1",
        "outputId": "94c6ea33-40b7-46d4-ca2a-0f142a06b39f"
      },
      "execution_count": 53,
      "outputs": [
        {
          "output_type": "execute_result",
          "data": {
            "text/plain": [
              "'john goes home john eats food and bram sleeps'"
            ],
            "application/vnd.google.colaboratory.intrinsic+json": {
              "type": "string"
            }
          },
          "metadata": {},
          "execution_count": 53
        }
      ]
    },
    {
      "cell_type": "code",
      "source": [
        "my=my.replace(\"ram\",\"john\")"
      ],
      "metadata": {
        "id": "ol0jAPEr0t23"
      },
      "execution_count": 55,
      "outputs": []
    },
    {
      "cell_type": "code",
      "source": [
        "my"
      ],
      "metadata": {
        "colab": {
          "base_uri": "https://localhost:8080/",
          "height": 36
        },
        "id": "SV1LMXG202Rw",
        "outputId": "757cea67-1b94-460f-986b-a654ad90b4ee"
      },
      "execution_count": 56,
      "outputs": [
        {
          "output_type": "execute_result",
          "data": {
            "text/plain": [
              "'john goes home john eats food and bjohn sleeps'"
            ],
            "application/vnd.google.colaboratory.intrinsic+json": {
              "type": "string"
            }
          },
          "metadata": {},
          "execution_count": 56
        }
      ]
    },
    {
      "cell_type": "code",
      "source": [
        "custom_string=\"string format\"\n",
        "print(f\"{custom_string} is a powerful technique\")"
      ],
      "metadata": {
        "colab": {
          "base_uri": "https://localhost:8080/"
        },
        "id": "o3QWxMDh0_SK",
        "outputId": "3959ef67-c07d-4180-fe5d-475be25b942c"
      },
      "execution_count": 58,
      "outputs": [
        {
          "output_type": "stream",
          "name": "stdout",
          "text": [
            "string format is a powerful technique\n"
          ]
        }
      ]
    },
    {
      "cell_type": "code",
      "source": [
        "#Title\n",
        "#message error\n",
        "#statement"
      ],
      "metadata": {
        "id": "AwQTkEVs125L"
      },
      "execution_count": 59,
      "outputs": []
    },
    {
      "cell_type": "code",
      "source": [
        "#positional formatting \n",
        "#\"text{}\".format(value)\n",
        "print(\"Today is very {}\".format(\"hot\"))"
      ],
      "metadata": {
        "colab": {
          "base_uri": "https://localhost:8080/"
        },
        "id": "j-eSUKzu2QLH",
        "outputId": "e7c5a574-2404-4d04-d1a8-5c1e0be4242c"
      },
      "execution_count": 61,
      "outputs": [
        {
          "output_type": "stream",
          "name": "stdout",
          "text": [
            "Today is very hot\n"
          ]
        }
      ]
    },
    {
      "cell_type": "code",
      "source": [
        "my_string=\"{} rely on {} datsets\"\n",
        "method=\"Supervised algorithm\"\n",
        "condition=\"labeled\"\n",
        "print(my_string.format(method,condition))"
      ],
      "metadata": {
        "colab": {
          "base_uri": "https://localhost:8080/"
        },
        "id": "-LleJMUT2nxQ",
        "outputId": "31ebeaa5-af29-4790-deab-e67784151518"
      },
      "execution_count": 62,
      "outputs": [
        {
          "output_type": "stream",
          "name": "stdout",
          "text": [
            "Supervised algorithm rely on labeled datsets\n"
          ]
        }
      ]
    },
    {
      "cell_type": "code",
      "source": [
        "my_string=\"{1} rely on {0} datsets\"\n",
        "method=\"Supervised algorithm\"\n",
        "condition=\"labeled\"\n",
        "print(my_string.format(method,condition))"
      ],
      "metadata": {
        "colab": {
          "base_uri": "https://localhost:8080/"
        },
        "id": "3Mh-ri5n3Kor",
        "outputId": "df11eaa0-03c3-4a99-c26a-6e60fb894064"
      },
      "execution_count": 63,
      "outputs": [
        {
          "output_type": "stream",
          "name": "stdout",
          "text": [
            "labeled rely on Supervised algorithm datsets\n"
          ]
        }
      ]
    },
    {
      "cell_type": "code",
      "source": [
        "my_string=\"{alpha} rely on {beta} datsets\"\n",
        "method=\"Supervised algorithm\"\n",
        "condition=\"labeled\"\n",
        "print(my_string.format(alpha=method,beta=condition))"
      ],
      "metadata": {
        "colab": {
          "base_uri": "https://localhost:8080/"
        },
        "id": "97T3tX6D3ev9",
        "outputId": "a5d8bc3b-dd9b-4f68-915e-03f92ba60296"
      },
      "execution_count": 65,
      "outputs": [
        {
          "output_type": "stream",
          "name": "stdout",
          "text": [
            "Supervised algorithm rely on labeled datsets\n"
          ]
        }
      ]
    },
    {
      "cell_type": "code",
      "source": [
        "my_data={\"tool\":\"Unsupervised algorithms\",\"goal\":\"patterns\"}\n",
        "print(\"{data[tool]} try to find {data[goal]} in the dataset\".format(data=my_data))"
      ],
      "metadata": {
        "colab": {
          "base_uri": "https://localhost:8080/"
        },
        "id": "ojDFKCyD4GSp",
        "outputId": "fd7b427d-264f-40d2-cf20-9bebe42290e0"
      },
      "execution_count": 66,
      "outputs": [
        {
          "output_type": "stream",
          "name": "stdout",
          "text": [
            "Unsupervised algorithms try to find patterns in the dataset\n"
          ]
        }
      ]
    },
    {
      "cell_type": "code",
      "source": [],
      "metadata": {
        "id": "9QkhJT6m40p1"
      },
      "execution_count": null,
      "outputs": []
    }
  ]
}